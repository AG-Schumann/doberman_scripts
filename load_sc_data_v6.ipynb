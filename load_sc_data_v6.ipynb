{
 "cells": [
  {
   "cell_type": "code",
   "execution_count": null,
   "metadata": {},
   "outputs": [],
   "source": [
    "import os\n",
    "import requests\n",
    "from pymongo import MongoClient\n",
    "import numpy as np\n",
    "import re"
   ]
  },
  {
   "cell_type": "code",
   "execution_count": null,
   "metadata": {},
   "outputs": [],
   "source": [
    "# First, we connect to MongoDB to collect the connection details for influx db\n",
    "# If you don't have the mongo_uri and experiment_name saved as environment variable replace with the correct\n",
    "# Strings in the following two lines.\n",
    "mongo_uri = os.environ.get('DOBERMAN_MONGO_URI')\n",
    "experiment_name = os.environ.get('DOBERMAN_EXPERIMENT_NAME')\n",
    "experiment_name = 'pancake'\n",
    "mongo_client = MongoClient(mongo_uri)\n",
    "mongo_db = mongo_client[experiment_name]\n",
    "collection = mongo_db['experiment_config']\n",
    "influx_cfg = collection.find_one({'name': 'influx'})\n",
    "\n",
    "# Now we build our influx query url\n",
    "url = influx_cfg['url'] + '/query?'\n",
    "headers = {'Accept': 'application/csv',\n",
    "           'Authorization': f'Token {influx_cfg[\"token\"]}'}\n",
    "params = {'db': 'slowdata', 'org': experiment_name}"
   ]
  },
  {
   "cell_type": "code",
   "execution_count": null,
   "metadata": {},
   "outputs": [],
   "source": [
    "def get_data(topic, sensor, start='now()-1h', end=None, interval=None):\n",
    "    \"\"\"\"\n",
    "    :param topic:    topic of the measurement (e.g. 'temperature')\n",
    "    :param sensor:   name of the sensor (e.g. 'T_XS_01')\n",
    "    :param start:    start of query window. possible formats: realtive (e.g. 'now()-10m', 'now()-5d'),\n",
    "                     timestamp in ns (e.g. '1656925200000000000'),\n",
    "                     datetime string 'YYYY-MM-DDTHH:MM:SSZ' (e.g. '2022-07-04T09:43:00Z')\n",
    "    :param end:      end of query window. Same formats as start.\n",
    "    :param interval: time interval in which data points will be averaged.\n",
    "                     Use reasonably large interval when querying long time ranges unless you really want \n",
    "                     10ks of single measurements(e.g. '10m', '2h', '1d')\n",
    "    :returns :       (numpy array of timestamps in ns, numpy array of values) \n",
    "                  \"\"\"\n",
    "    datetime_format = r\"(\\d{4})-(\\d{2})-(\\d{2})T(\\d{2}):(\\d{2}):(\\d{2}Z)\"\n",
    "    if re.match(datetime_format, start):\n",
    "        start = f\"'{start}'\"\n",
    "    condition = f\"FROM {topic} WHERE sensor='{sensor}' AND time >= {start}\"\n",
    "    if end:\n",
    "        if re.match(datetime_format, end):\n",
    "            end = f\"'{end}'\"\n",
    "        condition += f\" AND time <= {end}\"\n",
    "    if interval:\n",
    "        query = f\"SELECT mean(value) {condition} GROUP BY time({interval}) fill(none);\"\n",
    "    else:\n",
    "        query = f\"SELECT value {condition};\"\n",
    "    print(query)\n",
    "    params['q'] = query\n",
    "    r = requests.get(url, headers=headers, params=params)\n",
    "    data_points = r.content.decode().splitlines()\n",
    "    data_array = np.array([d.split(',')[-2:] for d in data_points[1:]])\n",
    "    if len(data_array):\n",
    "        \n",
    "        timestamps = [int(d) for d in data_array[:,0]]\n",
    "        values = [float(d) for d in data_array[:,1]]\n",
    "        print(f'Found {len(values)} data points.')\n",
    "    else:\n",
    "        print('ERROR: No data in selection')\n",
    "        return [], []\n",
    "    return timestamps, values"
   ]
  },
  {
   "cell_type": "code",
   "execution_count": null,
   "metadata": {
    "scrolled": true
   },
   "outputs": [],
   "source": [
    "t1,v1 = get_data('temperature', 'T_TS_01', '2022-03-20T00:00:00Z', '2022-03-25T23:00:00Z', '10m')"
   ]
  },
  {
   "cell_type": "code",
   "execution_count": null,
   "metadata": {},
   "outputs": [],
   "source": [
    "t2,v2 = get_data('temperature', 'T_TS_02', '2022-03-20T00:00:00Z', '2022-03-25T23:00:00Z', '10m')"
   ]
  },
  {
   "cell_type": "code",
   "execution_count": null,
   "metadata": {},
   "outputs": [],
   "source": [
    "import matplotlib.pyplot as plt\n",
    "\n",
    "fig, ax = plt.subplots()\n",
    "\n",
    "plt.scatter(t1, v1, label='bottom')\n",
    "plt.scatter(t2, v2, label='top')\n",
    "\n",
    "plt.xlabel('timestamp / ns')\n",
    "plt.ylabel('T /K')\n",
    "plt.legend()\n",
    "plt.title('Thermosyphon temperature')\n",
    "plt.show()"
   ]
  }
 ],
 "metadata": {
  "kernelspec": {
   "display_name": "Python 3",
   "language": "python",
   "name": "python3"
  },
  "language_info": {
   "codemirror_mode": {
    "name": "ipython",
    "version": 3
   },
   "file_extension": ".py",
   "mimetype": "text/x-python",
   "name": "python",
   "nbconvert_exporter": "python",
   "pygments_lexer": "ipython3",
   "version": "3.9.2"
  }
 },
 "nbformat": 4,
 "nbformat_minor": 2
}
